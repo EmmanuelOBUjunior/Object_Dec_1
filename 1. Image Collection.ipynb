{
 "cells": [
  {
   "cell_type": "markdown",
   "metadata": {},
   "source": [
    "# 1. Import Dependencies"
   ]
  },
  {
   "cell_type": "code",
   "execution_count": 1,
   "metadata": {},
   "outputs": [
    {
     "name": "stdout",
     "output_type": "stream",
     "text": [
      "Collecting opencv-python\n",
      "  Downloading opencv_python-4.5.4.58-cp38-cp38-win_amd64.whl (35.1 MB)\n",
      "Collecting numpy>=1.17.3\n",
      "  Downloading numpy-1.21.4-cp38-cp38-win_amd64.whl (14.0 MB)\n",
      "Installing collected packages: numpy, opencv-python\n",
      "Successfully installed numpy-1.21.4 opencv-python-4.5.4.58\n"
     ]
    }
   ],
   "source": [
    "!pip install opencv-python"
   ]
  },
  {
   "cell_type": "code",
   "execution_count": 1,
   "metadata": {},
   "outputs": [],
   "source": [
    "# Import opencv\n",
    "import cv2 \n",
    "\n",
    "# Import uuid\n",
    "import uuid\n",
    "\n",
    "# Import Operating System\n",
    "import os\n",
    "\n",
    "# Import time\n",
    "import time"
   ]
  },
  {
   "cell_type": "markdown",
   "metadata": {},
   "source": [
    "# 2. Define Images to Collect"
   ]
  },
  {
   "cell_type": "code",
   "execution_count": 2,
   "metadata": {},
   "outputs": [],
   "source": [
    "labels = ['thumbsup', 'thumbsdown']\n",
    "number_imgs = 8"
   ]
  },
  {
   "cell_type": "markdown",
   "metadata": {},
   "source": [
    "# 3. Setup Folders "
   ]
  },
  {
   "cell_type": "code",
   "execution_count": 3,
   "metadata": {},
   "outputs": [],
   "source": [
    "IMAGES_PATH = os.path.join('Tensorflow', 'workspace', 'images', 'collectedimages')"
   ]
  },
  {
   "cell_type": "code",
   "execution_count": 4,
   "metadata": {},
   "outputs": [],
   "source": [
    "if not os.path.exists(IMAGES_PATH):\n",
    "    if os.name == 'posix':\n",
    "        !mkdir -p {IMAGES_PATH}\n",
    "    if os.name == 'nt':\n",
    "         !mkdir {IMAGES_PATH}\n",
    "for label in labels:\n",
    "    path = os.path.join(IMAGES_PATH, label)\n",
    "    if not os.path.exists(path):\n",
    "        !mkdir {path}"
   ]
  },
  {
   "cell_type": "markdown",
   "metadata": {},
   "source": [
    "# 4. Capture Images"
   ]
  },
  {
   "cell_type": "code",
   "execution_count": 5,
   "metadata": {},
   "outputs": [
    {
     "name": "stdout",
     "output_type": "stream",
     "text": [
      "Collecting images for thumbsup\n",
      "Collecting image 0\n",
      "Collecting image 1\n",
      "Collecting image 2\n",
      "Collecting image 3\n",
      "Collecting image 4\n",
      "Collecting image 5\n",
      "Collecting image 6\n",
      "Collecting image 7\n",
      "Collecting images for thumbsdown\n",
      "Collecting image 0\n",
      "Collecting image 1\n",
      "Collecting image 2\n",
      "Collecting image 3\n",
      "Collecting image 4\n",
      "Collecting image 5\n",
      "Collecting image 6\n",
      "Collecting image 7\n"
     ]
    }
   ],
   "source": [
    "for label in labels:\n",
    "    cap = cv2.VideoCapture(0)\n",
    "    print('Collecting images for {}'.format(label))\n",
    "    time.sleep(10)\n",
    "    for imgnum in range(number_imgs):\n",
    "        print('Collecting image {}'.format(imgnum))\n",
    "        ret, frame = cap.read()\n",
    "        imgname = os.path.join(IMAGES_PATH,label,label+'.'+'{}.jpg'.format(str(uuid.uuid1())))\n",
    "        cv2.imwrite(imgname, frame)\n",
    "        cv2.imshow('frame', frame)\n",
    "        time.sleep(5)\n",
    "\n",
    "        if cv2.waitKey(1) & 0xFF == ord('q'):\n",
    "            break\n",
    "cap.release()\n",
    "cv2.destroyAllWindows()"
   ]
  },
  {
   "cell_type": "markdown",
   "metadata": {},
   "source": [
    "# 5. Image Labelling"
   ]
  },
  {
   "cell_type": "code",
   "execution_count": null,
   "metadata": {},
   "outputs": [],
   "source": [
    "!pip install --upgrade pyqt5 lxml"
   ]
  },
  {
   "cell_type": "code",
   "execution_count": 7,
   "metadata": {},
   "outputs": [],
   "source": [
    "LABELIMG_PATH = os.path.join('Tensorflow', 'labelimg')"
   ]
  },
  {
   "cell_type": "code",
   "execution_count": 13,
   "metadata": {},
   "outputs": [
    {
     "name": "stderr",
     "output_type": "stream",
     "text": [
      "Cloning into 'Tensorflow\\labelimg'...\n"
     ]
    }
   ],
   "source": [
    "if not os.path.exists(LABELIMG_PATH):\n",
    "    !mkdir {LABELIMG_PATH}\n",
    "    !git clone https://github.com/tzutalin/labelImg {LABELIMG_PATH}"
   ]
  },
  {
   "cell_type": "code",
   "execution_count": 14,
   "metadata": {},
   "outputs": [],
   "source": [
    "if os.name == 'posix':\n",
    "    !cd {LABELIMG_PATH} && make qt5py3\n",
    "if os.name =='nt':\n",
    "    !cd {LABELIMG_PATH} && pyrcc5 -o libs/resources.py resources.qrc"
   ]
  },
  {
   "cell_type": "code",
   "execution_count": 8,
   "metadata": {},
   "outputs": [
    {
     "name": "stdout",
     "output_type": "stream",
     "text": [
      "Image:E:\\Codes\\MachineLearning\\TFODCourse\\Tensorflow\\workspace\\images\\collectedimages\\thumbsdown\\thumbsdown.db2c7a6f-4204-11ec-9dae-0c96e6442acc.jpg -> Annotation:E:/Codes/MachineLearning/TFODCourse/Tensorflow/workspace/images/collectedimages/thumbsdown/thumbsdown.db2c7a6f-4204-11ec-9dae-0c96e6442acc.xml\n",
      "Image:E:\\Codes\\MachineLearning\\TFODCourse\\Tensorflow\\workspace\\images\\collectedimages\\thumbsdown\\thumbsdown.de2d862a-4204-11ec-b069-0c96e6442acc.jpg -> Annotation:E:/Codes/MachineLearning/TFODCourse/Tensorflow/workspace/images/collectedimages/thumbsdown/thumbsdown.de2d862a-4204-11ec-b069-0c96e6442acc.xml\n",
      "Image:E:\\Codes\\MachineLearning\\TFODCourse\\Tensorflow\\workspace\\images\\collectedimages\\thumbsdown\\thumbsdown.e73b82de-4204-11ec-8623-0c96e6442acc.jpg -> Annotation:E:/Codes/MachineLearning/TFODCourse/Tensorflow/workspace/images/collectedimages/thumbsdown/thumbsdown.e73b82de-4204-11ec-8623-0c96e6442acc.xml\n",
      "Image:E:\\Codes\\MachineLearning\\TFODCourse\\Tensorflow\\workspace\\images\\collectedimages\\thumbsdown\\thumbsdown.e1321d7a-4204-11ec-bcf2-0c96e6442acc.jpg -> Annotation:E:/Codes/MachineLearning/TFODCourse/Tensorflow/workspace/images/collectedimages/thumbsdown/thumbsdown.e1321d7a-4204-11ec-bcf2-0c96e6442acc.xml\n",
      "Image:E:\\Codes\\MachineLearning\\TFODCourse\\Tensorflow\\workspace\\images\\collectedimages\\thumbsdown\\thumbsdown.e43890f1-4204-11ec-bad5-0c96e6442acc.jpg -> Annotation:E:/Codes/MachineLearning/TFODCourse/Tensorflow/workspace/images/collectedimages/thumbsdown/thumbsdown.e43890f1-4204-11ec-bad5-0c96e6442acc.xml\n",
      "Image:E:\\Codes\\MachineLearning\\TFODCourse\\Tensorflow\\workspace\\images\\collectedimages\\thumbsdown\\thumbsdown.ea406b6f-4204-11ec-aed7-0c96e6442acc.jpg -> Annotation:E:/Codes/MachineLearning/TFODCourse/Tensorflow/workspace/images/collectedimages/thumbsdown/thumbsdown.ea406b6f-4204-11ec-aed7-0c96e6442acc.xml\n",
      "Image:E:\\Codes\\MachineLearning\\TFODCourse\\Tensorflow\\workspace\\images\\collectedimages\\thumbsdown\\thumbsdown.ed43bc87-4204-11ec-a9a2-0c96e6442acc.jpg -> Annotation:E:/Codes/MachineLearning/TFODCourse/Tensorflow/workspace/images/collectedimages/thumbsdown/thumbsdown.ed43bc87-4204-11ec-a9a2-0c96e6442acc.xml\n",
      "Image:E:\\Codes\\MachineLearning\\TFODCourse\\Tensorflow\\workspace\\images\\collectedimages\\thumbsdown\\thumbsdown.f04821a4-4204-11ec-9de9-0c96e6442acc.jpg -> Annotation:E:/Codes/MachineLearning/TFODCourse/Tensorflow/workspace/images/collectedimages/thumbsdown/thumbsdown.f04821a4-4204-11ec-9de9-0c96e6442acc.xml\n",
      "Image:E:\\Codes\\MachineLearning\\TFODCourse\\Tensorflow\\workspace\\images\\collectedimages\\thumbsup\\thumbsup.c0e3fc1c-4204-11ec-b7d9-0c96e6442acc.jpg -> Annotation:E:/Codes/MachineLearning/TFODCourse/Tensorflow/workspace/images/collectedimages/thumbsup/thumbsup.c0e3fc1c-4204-11ec-b7d9-0c96e6442acc.xml\n",
      "Image:E:\\Codes\\MachineLearning\\TFODCourse\\Tensorflow\\workspace\\images\\collectedimages\\thumbsup\\thumbsup.c3e87c9b-4204-11ec-9443-0c96e6442acc.jpg -> Annotation:E:/Codes/MachineLearning/TFODCourse/Tensorflow/workspace/images/collectedimages/thumbsup/thumbsup.c3e87c9b-4204-11ec-9443-0c96e6442acc.xml\n",
      "Image:E:\\Codes\\MachineLearning\\TFODCourse\\Tensorflow\\workspace\\images\\collectedimages\\thumbsup\\thumbsup.c6ec9209-4204-11ec-8c91-0c96e6442acc.jpg -> Annotation:E:/Codes/MachineLearning/TFODCourse/Tensorflow/workspace/images/collectedimages/thumbsup/thumbsup.c6ec9209-4204-11ec-8c91-0c96e6442acc.xml\n",
      "Image:E:\\Codes\\MachineLearning\\TFODCourse\\Tensorflow\\workspace\\images\\collectedimages\\thumbsup\\thumbsup.c9f22051-4204-11ec-a615-0c96e6442acc.jpg -> Annotation:E:/Codes/MachineLearning/TFODCourse/Tensorflow/workspace/images/collectedimages/thumbsup/thumbsup.c9f22051-4204-11ec-a615-0c96e6442acc.xml\n",
      "Image:E:\\Codes\\MachineLearning\\TFODCourse\\Tensorflow\\workspace\\images\\collectedimages\\thumbsup\\thumbsup.ccf6a577-4204-11ec-9d4e-0c96e6442acc.jpg -> Annotation:E:/Codes/MachineLearning/TFODCourse/Tensorflow/workspace/images/collectedimages/thumbsup/thumbsup.ccf6a577-4204-11ec-9d4e-0c96e6442acc.xml\n",
      "Image:E:\\Codes\\MachineLearning\\TFODCourse\\Tensorflow\\workspace\\images\\collectedimages\\thumbsup\\thumbsup.ccf6a577-4204-11ec-9d4e-0c96e6442acc.jpg -> Annotation:E:\\Codes\\MachineLearning\\TFODCourse\\Tensorflow\\workspace\\images\\collectedimages\\thumbsup\\thumbsup.ccf6a577-4204-11ec-9d4e-0c96e6442acc.xml\n",
      "Image:E:\\Codes\\MachineLearning\\TFODCourse\\Tensorflow\\workspace\\images\\collectedimages\\thumbsup\\thumbsup.cff7c43a-4204-11ec-9c52-0c96e6442acc.jpg -> Annotation:E:/Codes/MachineLearning/TFODCourse/Tensorflow/workspace/images/collectedimages/thumbsup/thumbsup.cff7c43a-4204-11ec-9c52-0c96e6442acc.xml\n"
     ]
    }
   ],
   "source": [
    "!cd {LABELIMG_PATH} && python labelImg.py"
   ]
  },
  {
   "cell_type": "markdown",
   "metadata": {},
   "source": [
    "# 6. Move them into a Training and Testing Partition"
   ]
  },
  {
   "cell_type": "markdown",
   "metadata": {},
   "source": [
    "# OPTIONAL - 7. Compress them for Colab Training"
   ]
  },
  {
   "cell_type": "code",
   "execution_count": 20,
   "metadata": {},
   "outputs": [],
   "source": [
    "TRAIN_PATH = os.path.join('Tensorflow', 'workspace', 'images', 'train')\n",
    "TEST_PATH = os.path.join('Tensorflow', 'workspace', 'images', 'test')\n",
    "ARCHIVE_PATH = os.path.join('Tensorflow', 'workspace', 'images', 'archive.tar.gz')"
   ]
  },
  {
   "cell_type": "code",
   "execution_count": 21,
   "metadata": {},
   "outputs": [],
   "source": [
    "!tar -czf {ARCHIVE_PATH} {TRAIN_PATH} {TEST_PATH}"
   ]
  },
  {
   "cell_type": "code",
   "execution_count": null,
   "metadata": {},
   "outputs": [],
   "source": []
  }
 ],
 "metadata": {
  "kernelspec": {
   "display_name": "tfod",
   "language": "python",
   "name": "tfod"
  },
  "language_info": {
   "codemirror_mode": {
    "name": "ipython",
    "version": 3
   },
   "file_extension": ".py",
   "mimetype": "text/x-python",
   "name": "python",
   "nbconvert_exporter": "python",
   "pygments_lexer": "ipython3",
   "version": "3.8.10"
  }
 },
 "nbformat": 4,
 "nbformat_minor": 2
}
